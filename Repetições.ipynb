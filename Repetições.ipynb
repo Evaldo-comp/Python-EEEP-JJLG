{
  "nbformat": 4,
  "nbformat_minor": 0,
  "metadata": {
    "colab": {
      "provenance": [],
      "collapsed_sections": [],
      "authorship_tag": "ABX9TyOyQr/Hqb42dY0PnQpcuOpj",
      "include_colab_link": true
    },
    "kernelspec": {
      "name": "python3",
      "display_name": "Python 3"
    },
    "language_info": {
      "name": "python"
    }
  },
  "cells": [
    {
      "cell_type": "markdown",
      "metadata": {
        "id": "view-in-github",
        "colab_type": "text"
      },
      "source": [
        "<a href=\"https://colab.research.google.com/github/Evaldo-comp/Python-EEEP-JJLG/blob/main/Repeti%C3%A7%C3%B5es.ipynb\" target=\"_parent\"><img src=\"https://colab.research.google.com/assets/colab-badge.svg\" alt=\"Open In Colab\"/></a>"
      ]
    },
    {
      "cell_type": "markdown",
      "source": [
        "# Repetições\n",
        "\n",
        "As repetições são a base de muitos programas, que precisam executar uma determinada ação várias vezes.\n",
        "\n",
        "Para simplificar a utilização de uma estrutura de repetição, imagine que você precise imprimir 3 números, pelo método normal você faria como no exemplo que segue."
      ],
      "metadata": {
        "id": "zhu6VxhN5ool"
      }
    },
    {
      "cell_type": "code",
      "execution_count": null,
      "metadata": {
        "id": "9S2oHMpXLaEv"
      },
      "outputs": [],
      "source": [
        "print(1)\n",
        "print(2)\n",
        "print(3)\n",
        "\n",
        "# ou\n",
        "print(\"-------------------------\")\n",
        "\n",
        "x = 1\n",
        "print(x)\n",
        "x = x+1\n",
        "print(x)\n",
        "x = x+1\n",
        "print(x)"
      ]
    },
    {
      "cell_type": "markdown",
      "source": [
        "Os exemplos apresentados cumprem a proposta, mas já pensou se sua tarefa é imprimir 100 números, ou 1000, ou até mesmo 1000000, seria uma trabalho árduo. Por isso devemos entender o funcionamento das estruturas de repetição.\n",
        "E a promeira dela será o **while.**\n",
        "\n",
        "## While\n",
        "\n",
        "O while executa um bloco de código enquanto a sua condição for verdadeira, logicamente, quando essa condição for falsa ele para a execução\n",
        "\n",
        "```\n",
        "while <condição>\n",
        "    bloco\n",
        "```\n",
        "\n",
        "Veja o exemplo da impressão de 3 números utilizando o while"
      ],
      "metadata": {
        "id": "ANnPI5db6xAZ"
      }
    },
    {
      "cell_type": "code",
      "source": [
        "x = 1\n",
        "while x<=3:\n",
        "  print(x)\n",
        "  x+=1\n"
      ],
      "metadata": {
        "id": "-cEYuEjJ73CM"
      },
      "execution_count": null,
      "outputs": []
    },
    {
      "cell_type": "markdown",
      "source": [
        "## Práticas:\n",
        "\n",
        "1 - Modifique o exemplo acima para exibir os números de 1 a 100\n",
        "\n",
        "2 - Modifique o programa para exibir os números de 50 a 100\n",
        "\n",
        "3 - Faça um programa que realize  contagem regressiva de um foguete, ele deve imprimir (10, 9, 8, ... 1, 0 Fogo!)\n",
        "\n",
        "4- Faça um programa que imprima uma sequência de números e pare no número que represente sua idade, mostrando uma mensagem semelhante a essa(Você tem x anos)\n"
      ],
      "metadata": {
        "id": "5WBfo4bb8Hj1"
      }
    },
    {
      "cell_type": "code",
      "source": [
        "# Práatica 1\n",
        "'''\n",
        "y = 1\n",
        "while y <= 100:\n",
        "  print(y)\n",
        "  y = y+1\n",
        "\n",
        "# Prática 2\n",
        "x = 50\n",
        "while x <=100:\n",
        "  print(x)\n",
        "  x+=1\n",
        "\n",
        "# Prática 3\n",
        "x = 10\n",
        "while x>=0:\n",
        "  print(x)\n",
        "  x-=1\n",
        "print(\"Fogo!!\")\n",
        "'''\n",
        "# Prática 4\n",
        "x = int(input(\"Digite sua idade\"))\n",
        "a = 0\n",
        "while a<=x:\n",
        "  print(a)\n",
        "  if a == x:\n",
        "    print(f\"Você tem {a} anos\")\n",
        "  \n",
        "  a+=1\n",
        "  \n"
      ],
      "metadata": {
        "id": "0-0s4vlL9wEx"
      },
      "execution_count": null,
      "outputs": []
    },
    {
      "cell_type": "markdown",
      "source": [
        "### Contadores\n",
        "Um contador é uma variável utilizada para contar o número de ocorrências de um determinado evento dentro da estrutura."
      ],
      "metadata": {
        "id": "qC3MkUZdAE5v"
      }
    },
    {
      "cell_type": "code",
      "source": [],
      "metadata": {
        "id": "DXKLGT25A1dH"
      },
      "execution_count": null,
      "outputs": []
    },
    {
      "cell_type": "markdown",
      "source": [
        "## Práticas:\n",
        "\n",
        "1- Faça um programa que imprima uma sequência de números e pare no número que represente sua idade, mostrando uma mensagem semelhante a essa(Você tem x anos)"
      ],
      "metadata": {
        "id": "Y61t7gg-I5CX"
      }
    },
    {
      "cell_type": "code",
      "source": [
        "fim = int(input(\"Digite o último número para imprimir\"))\n",
        "x=1\n",
        "while x <= fim:\n",
        "  print(x)\n",
        "  x = x+1  # Contador"
      ],
      "metadata": {
        "id": "XYbYJCvSLHBG"
      },
      "execution_count": null,
      "outputs": []
    },
    {
      "cell_type": "markdown",
      "source": [
        "## Interrompendo uma repetição:\n",
        "\n",
        "O while faz a verificação apenas no inicio da execução do bloco, isso pode ser um problema, caso desejemos para a execução de uma determinada operação dentro do bloco antes dele da outro loop. Para isso utilizamos o comando `break`:\n",
        "\n",
        "Vej o exemplo"
      ],
      "metadata": {
        "id": "a2N2jL-oLH5D"
      }
    },
    {
      "cell_type": "code",
      "source": [
        "s = 0\n",
        "while True:\n",
        "  v = int(input(\"Digite o número a somar ou 0 para sair\"))\n",
        "  if v == 0:\n",
        "    break\n",
        "  s += v\n",
        "print(s)"
      ],
      "metadata": {
        "id": "5oeVLNKbLouI"
      },
      "execution_count": null,
      "outputs": []
    },
    {
      "cell_type": "markdown",
      "source": [
        "## Desafio\n",
        "\n",
        "Utilize a estrtura do while com um break, para criar o menu de pedidos do fogareiro, registrando so pedidos e mostrando ao final o valor total da conta."
      ],
      "metadata": {
        "id": "viF6dxFSMCd5"
      }
    },
    {
      "cell_type": "code",
      "source": [
        "print(\"Bem vindo ao Fagareiro faça seu pedido\")\n",
        "valorTotal = 0\n",
        "while True:\n",
        "  pedido = int(input(\n",
        "    '''\n",
        "      1 - Baião       R$ 8.00\n",
        "      2 - Refrigerante Latinha     R$ 3.50\n",
        "      3 - Churrasco (Carne bovina)  R$ 5.00\n",
        "      Digite 0 para finalizar\n",
        "    '''\n",
        "    ))\n",
        "  if pedido == 0:\n",
        "    break\n",
        "  elif pedido == 1:\n",
        "    qtd = int(input(\"Digite a quantidade\"))\n",
        "    valorTotal = valorTotal + (qtd * 8.00)\n",
        "  elif pedido == 2:\n",
        "    qtd = int(input(\"Digite a quantidade\"))\n",
        "    valorTotal = valorTotal + (qtd * 3.50)\n",
        "  elif pedido == 3:\n",
        "    qtd = int(input(\"Digite a quantidade\"))\n",
        "    valorTotal = valorTotal + (qtd * 5.00)\n",
        "  else:\n",
        "    print(\"Número de pedido inválido\")\n",
        "print(f\"O valor da sua conta é R$ {valorTotal} Reais\")"
      ],
      "metadata": {
        "id": "v_QZfimEMM1t"
      },
      "execution_count": null,
      "outputs": []
    }
  ]
}