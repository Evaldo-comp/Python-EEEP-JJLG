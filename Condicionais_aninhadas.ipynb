{
  "nbformat": 4,
  "nbformat_minor": 0,
  "metadata": {
    "colab": {
      "provenance": [],
      "collapsed_sections": [],
      "authorship_tag": "ABX9TyMOG9sVWZygEi4IbGRnw+du",
      "include_colab_link": true
    },
    "kernelspec": {
      "name": "python3",
      "display_name": "Python 3"
    },
    "language_info": {
      "name": "python"
    }
  },
  "cells": [
    {
      "cell_type": "markdown",
      "metadata": {
        "id": "view-in-github",
        "colab_type": "text"
      },
      "source": [
        "<a href=\"https://colab.research.google.com/github/Evaldo-comp/Python-EEEP-JJLG/blob/main/Condicionais_aninhadas.ipynb\" target=\"_parent\"><img src=\"https://colab.research.google.com/assets/colab-badge.svg\" alt=\"Open In Colab\"/></a>"
      ]
    },
    {
      "cell_type": "markdown",
      "source": [
        "### **LÓGICA DE PROGRAMAÇÃO - OUTUBRO -SEMANA02::**\n",
        "\n",
        "\n",
        "\n",
        "---\n",
        "\n"
      ],
      "metadata": {
        "id": "55FXn3L33H5w"
      }
    },
    {
      "cell_type": "markdown",
      "source": [
        "**Estruturas aninhadas:**\n",
        "\n",
        "Quando possuímos muitas decisões a serem tomadas, precisamos colocar `if` dentro de outro if, ou pra ser mais especifico dentro de um `else`. Essa estrutura de decisão ficam aninhadas, ou seja, uma dentro da outra, o código roda normalmente se a escrita estiver correta, mas teremos dificuldade na leitura e organização do código. Veja um exemplo de uma estrutura aninhada."
      ],
      "metadata": {
        "id": "rWuqD2ebzfb7"
      }
    },
    {
      "cell_type": "code",
      "source": [
        "'''\n",
        "Escreve va um código  que leia a categoria de um produto e msotre o preço deste produto de acorod com a tabela\n",
        "cat       preço\n",
        "1          10,00\n",
        "2          18,00\n",
        "3          23,00\n",
        "4          26,00\n",
        "5          31,00\n",
        "'''\n",
        "\n",
        "cat = int(input(\"Insira a categoria do produto\\n\"))\n",
        "if cat == 1:\n",
        "  print(\"O preço dessa categoria é R$ 10.00 Reais\\n\")\n",
        "else:\n",
        "  if cat == 2:\n",
        "    print(\"O preço dessa categoria é R$ 18.00 Reais\\n\")\n",
        "  else:\n",
        "    if cat == 3:\n",
        "      print(\"O preço dessa categoria é R$ 23.00 Reais\\n\")\n",
        "    else:\n",
        "      if cat == 4:\n",
        "         print(\"O preço dessa categoria é R$ 26.00 Reais\\n\")\n",
        "      else:\n",
        "        if cat == 5:\n",
        "          print(\"O preço dessa categoria é R$ 32.00 Reais\\n\")\n",
        "        else:\n",
        "          print(\"Opção incorreta\\n\")  "
      ],
      "metadata": {
        "id": "ZZTvJL8w0zQh"
      },
      "execution_count": null,
      "outputs": []
    },
    {
      "cell_type": "markdown",
      "source": [
        "O código acima roda perfeitamente, mas podemos melhorar essa estrutura utilizando o `elif` e dessa forma melhorar a leitura e organização do mesmo."
      ],
      "metadata": {
        "id": "2h8vSDV42c0A"
      }
    },
    {
      "cell_type": "code",
      "source": [
        "# Programa anterior utilizando elif\n",
        "\n",
        "\n",
        "cat = int(input(\"Insira a categoria do produto\\n\"))\n",
        "if cat == 1:\n",
        "  print(\"O preço dessa categoria é R$ 10.00 Reais\\n\")\n",
        "elif cat == 2:\n",
        "  print(\"O preço dessa categoria é R$ 18.00 Reais\\n\")\n",
        "elif cat == 3:\n",
        "  print(\"O preço dessa categoria é R$ 23.00 Reais\\n\")\n",
        "elif cat == 4:\n",
        "  print(\"O preço dessa categoria é R$ 26.00 Reais\\n\")\n",
        "elif cat == 5:\n",
        "  print(\"O preço dessa categoria é R$ 32.00 Reais\\n\")\n",
        "else:\n",
        "  print(\"Opção incorreta\\n\")  "
      ],
      "metadata": {
        "id": "h8zF1iT-2uXW"
      },
      "execution_count": null,
      "outputs": []
    },
    {
      "cell_type": "markdown",
      "source": [
        "Prática - Escreva um programa que calcule o preço a pagar pelo fornecimento de energia elétrica. Pergunte a quantidade de KWh consumida e o tipo de instalação : R para residências , I para insdústrias e C para comércios. Calcule o preço a pagar de acordo com a tabela a seguir: \n",
        "\n",
        "\n",
        "```\n",
        "|--------------------------------------------|\n",
        "| Tipo        | Faixa (kWh)   | Preço        |\n",
        "|-------------|---------------|--------------|\n",
        "| Residencial | Até 500       | R$ 0,40      |\n",
        "|-------------|---------------|--------------|\n",
        "| Residencial | Acima de 500  | R$ 0.65      |\n",
        "|-------------|---------------|--------------|\n",
        "| Comercial   | Até 1000      | R$ 0.55      |\n",
        "| Comercial   | Acima de 1000 | R$ 0.60      |\n",
        "|-------------|---------------|--------------|\n",
        "| Industrial  | Até 5000      | R$ 0.55      |\n",
        "| Industrial  | Acima de 5000 | R$ 0.60      |\n",
        "\n",
        "```\n",
        "\n",
        "\n",
        "\n"
      ],
      "metadata": {
        "id": "CD9qh75i6GnF"
      }
    },
    {
      "cell_type": "code",
      "source": [
        "qtdKwh = int(input(\"Insira a quatidade de Kilowhat consumida:\\n\"))\n",
        "tipoInst = input(\"Qual o tipo de instalção?\\n\")\n",
        "consumo = 0.0\n",
        "\n",
        "if tipoInst == \"R\":\n",
        "  if qtdKwh <= 500:\n",
        "    consumo = qtdKwh * 0.40\n",
        "    print(f\"O valor da sua conta de energia é R$ {consumo} Reais\")\n",
        "  else:\n",
        "    consumo = qtdKwh * 0.65\n",
        "    print(f\"O valor da sua conta de energia é R$ {consumo} Reais\")\n",
        "elif tipoInst == \"C\":\n",
        "  if qtdKwh <= 1000:\n",
        "    consumo = qtdKwh * 0.55\n",
        "    print(f\"O valor da sua conta de energia é R$ {consumo:6.2f} Reais\")\n",
        "  else:\n",
        "    consumo = qtdKwh * 0.60\n",
        "    print(f\"O valor da sua conta de energia é R$ {consumo:6.2f} Reais\")\n",
        "elif tipoInst == \"I\":\n",
        "  if qtdKwh <= 5000:\n",
        "    consumo = qtdKwh * 0.55\n",
        "    print(f\"O valor da sua conta de energia é R$ {consumo:6.2f} Reais\")\n",
        "  else:\n",
        "    consumo = qtdKwh * 0.60\n",
        "    print(f\"O valor da sua conta de energia é R$ {consumo:6.2f} Reais\")\n",
        "else:\n",
        "  print(\"Tipo de instação inexistência\")\n",
        "\n"
      ],
      "metadata": {
        "id": "YHLJABwADFHr"
      },
      "execution_count": null,
      "outputs": []
    }
  ]
}